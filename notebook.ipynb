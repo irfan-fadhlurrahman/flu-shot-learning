{
 "cells": [
  {
   "cell_type": "markdown",
   "metadata": {
    "id": "i3Z7ry036g7-"
   },
   "source": [
    "# Flu Shot Learning: Predict H1N1 and Seasonal Flu Vaccines"
   ]
  },
  {
   "cell_type": "markdown",
   "metadata": {
    "id": "PcVmbd5pL01F"
   },
   "source": [
    "## Introduction"
   ]
  },
  {
   "cell_type": "markdown",
   "metadata": {
    "id": "rswbpyYl6s_6"
   },
   "source": [
    "In early COVID-19 pandemic, around 2020, the vaccines for this virus were not yet available due to scientists around the world were still developing them. At that time, we needed an antibody boost to prevent a worse effect from COVID-19. In order to reduce the illness from this virus, we need to study the major respiratory infectious disease that has same symptoms or effect as the COVID-19. This virus is H1N1 influenza virus.\n",
    "\n",
    "In early 2009, H1N1 influenza virus, named as \"swine flu\", began to spread across the world and caused between 151,000 to 575,000 deaths. H1N1 influenza symptoms are very similar to COVID-19 symptoms, even though the nature of both viruses are quite different. By October 2009, scientists had already developed the H1N1 vaccine and made accessible for public us [[National 2009 H1N1 Flu Survey]](https://www.drivendata.org/competitions/66/flu-shot-learning/page/213/).\n",
    "\n",
    "With the insight or knowledge from H1N1 influenza virus pandemic, we are able to provide a guidance to public health by recommending the people whether they should get a H1N1 vaccine or seasonal vaccine, to reduce the worse symptoms if they got infected."
   ]
  },
  {
   "cell_type": "markdown",
   "metadata": {
    "id": "OHwmHeLVbYuX"
   },
   "source": [
    "## Objective"
   ]
  },
  {
   "cell_type": "markdown",
   "metadata": {
    "id": "-NJdj3mQbh-z"
   },
   "source": [
    "The goal of this notebook as follows:\n",
    "\n",
    "1. Build a machine learning model that predict probabilities of people should get a vaccine or not. This problem is a multilabel classification because some people got only H1N1 vaccine, only seasonal vaccine, both of them, or not at all. Model performance will be evaluated according mean ROC AUC score of two target variables. \n",
    "\n",
    "2. Deploy the final model into production so everyone can use the model to assess themselves whether they should got a vaccine or not."
   ]
  },
  {
   "cell_type": "markdown",
   "metadata": {
    "id": "1gPc1A5wbGw1"
   },
   "source": [
    "## Data Source"
   ]
  },
  {
   "cell_type": "markdown",
   "metadata": {
    "id": "o_T7THLj5i2l"
   },
   "source": [
    "This dataset is from National 2009 H1N1 Flu Survey by United States in late 2009 and early 2010. The data were collected by phone survey which asked respondents whether they had gotten the H1N1 or seasonal flu vaccines and questions regarding their personal information. You can find [here](https://www.drivendata.org/competitions/66/flu-shot-learning/page/210/)."
   ]
  },
  {
   "cell_type": "markdown",
   "metadata": {
    "id": "k8-eVhGqtMhe"
   },
   "source": [
    "Download the dataset"
   ]
  },
  {
   "cell_type": "code",
   "execution_count": null,
   "metadata": {
    "colab": {
     "base_uri": "https://localhost:8080/"
    },
    "id": "yhk0L4kIsHS0",
    "outputId": "0c7e228f-f848-47e4-91a2-7a0c9353d682"
   },
   "outputs": [],
   "source": [
    "!wget https://raw.githubusercontent.com/irfan-fadhlurrahman/practice-dataset/main/Flu%20shot%20learning/training_set_features.csv\n",
    "!wget https://raw.githubusercontent.com/irfan-fadhlurrahman/practice-dataset/main/Flu%20shot%20learning/training_set_labels.csv\n",
    "!wget https://raw.githubusercontent.com/irfan-fadhlurrahman/practice-dataset/main/Flu%20shot%20learning/test_set_features.csv\n",
    "!wget https://raw.githubusercontent.com/irfan-fadhlurrahman/practice-dataset/main/Flu%20shot%20learning/submission_format.csv"
   ]
  },
  {
   "cell_type": "markdown",
   "metadata": {
    "id": "4PsfnP2KrTGk"
   },
   "source": [
    "## Attributes description"
   ]
  },
  {
   "cell_type": "markdown",
   "metadata": {},
   "source": [
    "There are 35 features, 1 unique identifier, and 2 targets. Here are the description of each attribute.\n",
    "\n",
    "Notes: for all binary variables: 0 = No; 1 = Yes.\n",
    "\n",
    "| Columns | Description | Notes |\n",
    "| :- | :- | :- | \n",
    "| h1n1_concern | Level of concern about the H1N1 flu | 0 = Not at all concerned; 1 = Not very concerned; 2 = Somewhat concerned; 3 = Very concerned|\n",
    "| h1n1_knowledge | Level of knowledge about H1N1 flu | 0 = No knowledge; 1 = A little knowledge; 2 = A lot of knowledge. |\n",
    "| behavioral_antiviral_meds | Has taken antiviral medications | Binary |\n",
    "| behavioral_avoidance | Has avoided close contact with others with flu-like symptoms | Binary |\n",
    "| behavioral_face_mask | Has bought a face mask | Binary |\n",
    "| behavioral_wash_hands | Has frequently washed hands or used hand sanitizer | Binary |\n",
    "| behavioral_large_gatherings | Has reduced time at large gatherings | Binary |\n",
    "| behavioral_outside_home | Has reduced contact with people outside of own household | Binary |\n",
    "| behavioral_touch_face | Has avoided touching eyes, nose, or mouth | Binary |\n",
    "| doctor_recc_h1n1 | H1N1 flu vaccine was recommended by doctor | Binary |\n",
    "| doctor_recc_seasonal | Seasonal flu vaccine was recommended by doctor | Binary |\n",
    "| chronic_med_condition | Has any of the following chronic medical conditions: asthma or an other lung condition, diabetes, a heart condition, a kidney condition, sickle cell anemia or other anemia, a neurological or neuromuscular condition, a liver condition, or a weakened immune system caused by a chronic illness or by medicines taken for a chronic illness | Binary |\n",
    "| child_under_6_months | Has regular close contact with a child under the age of six months | Binary |\n",
    "| health_worker | Is a healthcare worker | Binary |\n",
    "| health_insurance | Has health insurance | Binary |\n",
    "| opinion_h1n1_vacc_effective | Respondent's opinion about H1N1 vaccine effectiveness | 1 = Not at all effective; 2 = Not very effective; 3 = Don't know; 4 = Somewhat effective; 5 = Very effective |\n",
    "| opinion_h1n1_risk | Respondent's opinion about risk of getting sick with H1N1 flu without vaccine | 1 = Very Low; 2 = Somewhat low; 3 = Don't know; 4 = Somewhat high; 5 = Very high |\n",
    "| opinion_h1n1_sick_from_vacc | Respondent's worry of getting sick from taking H1N1 vaccine | 1 = Not at all worried; 2 = Not very worried; 3 = Don't know; 4 = Somewhat worried; 5 = Very worried |\n",
    "| opinion_seas_vacc_effective | Respondent's opinion about seasonal flu vaccine effectiveness | 1 = Not at all effective; 2 = Not very effective; 3 = Don't know; 4 = Somewhat effective; 5 = Very effective |\n",
    "| opinion_seas_risk | Respondent's opinion about risk of getting sick with seasonal flu without vaccine | 1 = Very Low; 2 = Somewhat low; 3 = Don't know; 4 = Somewhat high; 5 = Very high |\n",
    "| opinion_seas_sick_from_vacc | Respondent's worry of getting sick from taking seasonal flu vaccine | 1 = Not at all worried; 2 = Not very worried; 3 = Don't know; 4 = Somewhat worried; 5 = Very worried |\n",
    "| age_group | Age group of respondent |  |\n",
    "| education | Self-reported education level |  |\n",
    "| race | Race of respondent |  |\n",
    "| sex | Sex of respondent | Binary |\n",
    "| income_poverty | Household annual income of respondent with respect to 2008 Census poverty thresholds | |\n",
    "| marital_status | Marital status of respondent |  |\n",
    "| rent_or_own | Housing situation of respondent |  |\n",
    "| employment_status | Employment status of respondent |  |\n",
    "| hhs_geo_region | Respondent's residence using a 10-region * geographic classification defined by the U.S. Dept. of Health and Human Services. Values are represented as short random character strings |  |\n",
    "| household_adults | Number of other adults in household, top-coded to 3 |  |\n",
    "| household_children | Number of children in household, top-coded to 3 |  |\n",
    "| employment_industry | Type of industry respondent is employed in. Values are represented as short random character strings |  |\n",
    "| employment_occupation | Type of occupation of respondent. Values are represented as short random character strings |  |\n",
    "| respondent_id | A unique identifier |  |\n",
    "| h1n1_vaccine | Whether respondent received H1N1 flu vaccine | Binary |\n",
    "| seasonal_vaccine | Whether respondent received seasonal flu vaccine | Binary |\n"
   ]
  },
  {
   "cell_type": "markdown",
   "metadata": {
    "id": "ca9yFyHR7wzs"
   },
   "source": [
    "##  Libraries"
   ]
  },
  {
   "cell_type": "code",
   "execution_count": 1,
   "metadata": {
    "id": "fTugnxia6aH_"
   },
   "outputs": [],
   "source": [
    "import numpy as np\n",
    "import pandas as pd\n",
    "import matplotlib.pyplot as plt\n",
    "import seaborn as sns\n",
    "import pickle\n",
    "\n",
    "from sklearn.model_selection import train_test_split\n",
    "from sklearn.preprocessing import FunctionTransformer\n",
    "from sklearn.feature_extraction import DictVectorizer\n",
    "from sklearn.pipeline import make_pipeline\n",
    "\n",
    "from sklearn.multioutput import MultiOutputClassifier\n",
    "from sklearn.multioutput import ClassifierChain\n",
    "from sklearn.model_selection import RepeatedKFold\n",
    "from sklearn.metrics import roc_auc_score\n",
    "\n",
    "from sklearn.tree import DecisionTreeClassifier\n",
    "from sklearn.ensemble import RandomForestClassifier\n",
    "from sklearn.ensemble import ExtraTreesClassifier\n",
    "from xgboost import XGBClassifier\n",
    "from tqdm import tqdm"
   ]
  },
  {
   "cell_type": "markdown",
   "metadata": {
    "id": "xjye4sAk70Qr"
   },
   "source": [
    "## 1. Load the dataset"
   ]
  },
  {
   "cell_type": "code",
   "execution_count": 2,
   "metadata": {
    "id": "Fkio8QrptW4G"
   },
   "outputs": [],
   "source": [
    "PATH = \"/mnt/c/Project/flu-shot-learning/\"\n",
    "features = pd.read_csv(PATH + 'dataset/training_set_features.csv')\n",
    "targets = pd.read_csv(PATH + 'dataset/training_set_labels.csv')"
   ]
  },
  {
   "cell_type": "markdown",
   "metadata": {
    "id": "pzISX0MFAnbp"
   },
   "source": [
    "Drop respondent_id and concat the features and targets"
   ]
  },
  {
   "cell_type": "code",
   "execution_count": 3,
   "metadata": {
    "id": "FXQp0YfKtj74"
   },
   "outputs": [],
   "source": [
    "train = pd.concat(\n",
    "     [features.drop('respondent_id', axis=1), \n",
    "     targets.drop('respondent_id', axis=1)], \n",
    "     axis=1\n",
    ")"
   ]
  },
  {
   "cell_type": "markdown",
   "metadata": {
    "id": "N4VAUhQ19Ss-"
   },
   "source": [
    "## 2. Exploratory Data Analysis"
   ]
  },
  {
   "cell_type": "markdown",
   "metadata": {
    "id": "czA4mt_89U9v"
   },
   "source": [
    "### 2.1 First five rows of train dataset"
   ]
  },
  {
   "cell_type": "code",
   "execution_count": 4,
   "metadata": {
    "colab": {
     "base_uri": "https://localhost:8080/",
     "height": 426
    },
    "id": "7iIjk3-c9XCz",
    "outputId": "844ffd15-b7a7-40a2-f329-f6a8fc10f969"
   },
   "outputs": [
    {
     "data": {
      "text/html": [
       "<div>\n",
       "<style scoped>\n",
       "    .dataframe tbody tr th:only-of-type {\n",
       "        vertical-align: middle;\n",
       "    }\n",
       "\n",
       "    .dataframe tbody tr th {\n",
       "        vertical-align: top;\n",
       "    }\n",
       "\n",
       "    .dataframe thead th {\n",
       "        text-align: right;\n",
       "    }\n",
       "</style>\n",
       "<table border=\"1\" class=\"dataframe\">\n",
       "  <thead>\n",
       "    <tr style=\"text-align: right;\">\n",
       "      <th></th>\n",
       "      <th>h1n1_concern</th>\n",
       "      <th>h1n1_knowledge</th>\n",
       "      <th>behavioral_antiviral_meds</th>\n",
       "      <th>behavioral_avoidance</th>\n",
       "      <th>behavioral_face_mask</th>\n",
       "      <th>behavioral_wash_hands</th>\n",
       "      <th>behavioral_large_gatherings</th>\n",
       "      <th>behavioral_outside_home</th>\n",
       "      <th>behavioral_touch_face</th>\n",
       "      <th>doctor_recc_h1n1</th>\n",
       "      <th>...</th>\n",
       "      <th>rent_or_own</th>\n",
       "      <th>employment_status</th>\n",
       "      <th>hhs_geo_region</th>\n",
       "      <th>census_msa</th>\n",
       "      <th>household_adults</th>\n",
       "      <th>household_children</th>\n",
       "      <th>employment_industry</th>\n",
       "      <th>employment_occupation</th>\n",
       "      <th>h1n1_vaccine</th>\n",
       "      <th>seasonal_vaccine</th>\n",
       "    </tr>\n",
       "  </thead>\n",
       "  <tbody>\n",
       "    <tr>\n",
       "      <th>0</th>\n",
       "      <td>1.0</td>\n",
       "      <td>0.0</td>\n",
       "      <td>0.0</td>\n",
       "      <td>0.0</td>\n",
       "      <td>0.0</td>\n",
       "      <td>0.0</td>\n",
       "      <td>0.0</td>\n",
       "      <td>1.0</td>\n",
       "      <td>1.0</td>\n",
       "      <td>0.0</td>\n",
       "      <td>...</td>\n",
       "      <td>Own</td>\n",
       "      <td>Not in Labor Force</td>\n",
       "      <td>oxchjgsf</td>\n",
       "      <td>Non-MSA</td>\n",
       "      <td>0.0</td>\n",
       "      <td>0.0</td>\n",
       "      <td>NaN</td>\n",
       "      <td>NaN</td>\n",
       "      <td>0</td>\n",
       "      <td>0</td>\n",
       "    </tr>\n",
       "    <tr>\n",
       "      <th>1</th>\n",
       "      <td>3.0</td>\n",
       "      <td>2.0</td>\n",
       "      <td>0.0</td>\n",
       "      <td>1.0</td>\n",
       "      <td>0.0</td>\n",
       "      <td>1.0</td>\n",
       "      <td>0.0</td>\n",
       "      <td>1.0</td>\n",
       "      <td>1.0</td>\n",
       "      <td>0.0</td>\n",
       "      <td>...</td>\n",
       "      <td>Rent</td>\n",
       "      <td>Employed</td>\n",
       "      <td>bhuqouqj</td>\n",
       "      <td>MSA, Not Principle  City</td>\n",
       "      <td>0.0</td>\n",
       "      <td>0.0</td>\n",
       "      <td>pxcmvdjn</td>\n",
       "      <td>xgwztkwe</td>\n",
       "      <td>0</td>\n",
       "      <td>1</td>\n",
       "    </tr>\n",
       "    <tr>\n",
       "      <th>2</th>\n",
       "      <td>1.0</td>\n",
       "      <td>1.0</td>\n",
       "      <td>0.0</td>\n",
       "      <td>1.0</td>\n",
       "      <td>0.0</td>\n",
       "      <td>0.0</td>\n",
       "      <td>0.0</td>\n",
       "      <td>0.0</td>\n",
       "      <td>0.0</td>\n",
       "      <td>NaN</td>\n",
       "      <td>...</td>\n",
       "      <td>Own</td>\n",
       "      <td>Employed</td>\n",
       "      <td>qufhixun</td>\n",
       "      <td>MSA, Not Principle  City</td>\n",
       "      <td>2.0</td>\n",
       "      <td>0.0</td>\n",
       "      <td>rucpziij</td>\n",
       "      <td>xtkaffoo</td>\n",
       "      <td>0</td>\n",
       "      <td>0</td>\n",
       "    </tr>\n",
       "    <tr>\n",
       "      <th>3</th>\n",
       "      <td>1.0</td>\n",
       "      <td>1.0</td>\n",
       "      <td>0.0</td>\n",
       "      <td>1.0</td>\n",
       "      <td>0.0</td>\n",
       "      <td>1.0</td>\n",
       "      <td>1.0</td>\n",
       "      <td>0.0</td>\n",
       "      <td>0.0</td>\n",
       "      <td>0.0</td>\n",
       "      <td>...</td>\n",
       "      <td>Rent</td>\n",
       "      <td>Not in Labor Force</td>\n",
       "      <td>lrircsnp</td>\n",
       "      <td>MSA, Principle City</td>\n",
       "      <td>0.0</td>\n",
       "      <td>0.0</td>\n",
       "      <td>NaN</td>\n",
       "      <td>NaN</td>\n",
       "      <td>0</td>\n",
       "      <td>1</td>\n",
       "    </tr>\n",
       "    <tr>\n",
       "      <th>4</th>\n",
       "      <td>2.0</td>\n",
       "      <td>1.0</td>\n",
       "      <td>0.0</td>\n",
       "      <td>1.0</td>\n",
       "      <td>0.0</td>\n",
       "      <td>1.0</td>\n",
       "      <td>1.0</td>\n",
       "      <td>0.0</td>\n",
       "      <td>1.0</td>\n",
       "      <td>0.0</td>\n",
       "      <td>...</td>\n",
       "      <td>Own</td>\n",
       "      <td>Employed</td>\n",
       "      <td>qufhixun</td>\n",
       "      <td>MSA, Not Principle  City</td>\n",
       "      <td>1.0</td>\n",
       "      <td>0.0</td>\n",
       "      <td>wxleyezf</td>\n",
       "      <td>emcorrxb</td>\n",
       "      <td>0</td>\n",
       "      <td>0</td>\n",
       "    </tr>\n",
       "  </tbody>\n",
       "</table>\n",
       "<p>5 rows × 37 columns</p>\n",
       "</div>"
      ],
      "text/plain": [
       "   h1n1_concern  h1n1_knowledge  behavioral_antiviral_meds  \\\n",
       "0           1.0             0.0                        0.0   \n",
       "1           3.0             2.0                        0.0   \n",
       "2           1.0             1.0                        0.0   \n",
       "3           1.0             1.0                        0.0   \n",
       "4           2.0             1.0                        0.0   \n",
       "\n",
       "   behavioral_avoidance  behavioral_face_mask  behavioral_wash_hands  \\\n",
       "0                   0.0                   0.0                    0.0   \n",
       "1                   1.0                   0.0                    1.0   \n",
       "2                   1.0                   0.0                    0.0   \n",
       "3                   1.0                   0.0                    1.0   \n",
       "4                   1.0                   0.0                    1.0   \n",
       "\n",
       "   behavioral_large_gatherings  behavioral_outside_home  \\\n",
       "0                          0.0                      1.0   \n",
       "1                          0.0                      1.0   \n",
       "2                          0.0                      0.0   \n",
       "3                          1.0                      0.0   \n",
       "4                          1.0                      0.0   \n",
       "\n",
       "   behavioral_touch_face  doctor_recc_h1n1  ...  rent_or_own  \\\n",
       "0                    1.0               0.0  ...          Own   \n",
       "1                    1.0               0.0  ...         Rent   \n",
       "2                    0.0               NaN  ...          Own   \n",
       "3                    0.0               0.0  ...         Rent   \n",
       "4                    1.0               0.0  ...          Own   \n",
       "\n",
       "    employment_status  hhs_geo_region                census_msa  \\\n",
       "0  Not in Labor Force        oxchjgsf                   Non-MSA   \n",
       "1            Employed        bhuqouqj  MSA, Not Principle  City   \n",
       "2            Employed        qufhixun  MSA, Not Principle  City   \n",
       "3  Not in Labor Force        lrircsnp       MSA, Principle City   \n",
       "4            Employed        qufhixun  MSA, Not Principle  City   \n",
       "\n",
       "   household_adults  household_children  employment_industry  \\\n",
       "0               0.0                 0.0                  NaN   \n",
       "1               0.0                 0.0             pxcmvdjn   \n",
       "2               2.0                 0.0             rucpziij   \n",
       "3               0.0                 0.0                  NaN   \n",
       "4               1.0                 0.0             wxleyezf   \n",
       "\n",
       "   employment_occupation  h1n1_vaccine  seasonal_vaccine  \n",
       "0                    NaN             0                 0  \n",
       "1               xgwztkwe             0                 1  \n",
       "2               xtkaffoo             0                 0  \n",
       "3                    NaN             0                 1  \n",
       "4               emcorrxb             0                 0  \n",
       "\n",
       "[5 rows x 37 columns]"
      ]
     },
     "execution_count": 4,
     "metadata": {},
     "output_type": "execute_result"
    }
   ],
   "source": [
    "train.head()"
   ]
  },
  {
   "cell_type": "markdown",
   "metadata": {
    "id": "XXRK0N_V9eZQ"
   },
   "source": [
    "### 2.2 Size of train dataset"
   ]
  },
  {
   "cell_type": "code",
   "execution_count": 5,
   "metadata": {
    "colab": {
     "base_uri": "https://localhost:8080/"
    },
    "id": "4IqdHS1M9h7N",
    "outputId": "fc4c628c-24e8-407d-d0d2-0d1d80245c8a"
   },
   "outputs": [
    {
     "name": "stdout",
     "output_type": "stream",
     "text": [
      "Total number of observations: 26707\n",
      "Total number of attributes: 37\n"
     ]
    }
   ],
   "source": [
    "print(f\"Total number of observations: {train.shape[0]}\")\n",
    "print(f\"Total number of attributes: {train.shape[1]}\")"
   ]
  },
  {
   "cell_type": "markdown",
   "metadata": {
    "id": "3Z8PhvUt9v0S"
   },
   "source": [
    "### 2.3 Summary of train dataset"
   ]
  },
  {
   "cell_type": "code",
   "execution_count": 6,
   "metadata": {
    "cellView": "form",
    "id": "CoxWnen293OH"
   },
   "outputs": [],
   "source": [
    "#@title summary_df\n",
    "def summary_df(df):     \n",
    "    table = pd.DataFrame(\n",
    "            columns=['variable', 'no_missing_values', 'nunique', 'dtype', 'values']\n",
    "    )\n",
    "    for i, var in enumerate(df.columns):\n",
    "        if df[var].dtypes == 'O':\n",
    "          table.loc[i] = [\n",
    "                          var, df[var].isnull().sum(), \n",
    "                          df[var].nunique(),\n",
    "                          df[var].dtypes, \n",
    "                          df[var].unique().tolist()\n",
    "          ]\n",
    "        else:\n",
    "          table.loc[i] = [\n",
    "                          var, df[var].isnull().sum(), \n",
    "                          df[var].nunique(),\n",
    "                          df[var].dtypes, \n",
    "                          [df[var].min(), df[var].max()]\n",
    "          ]\n",
    "    return table"
   ]
  },
  {
   "cell_type": "code",
   "execution_count": 7,
   "metadata": {
    "id": "XBBSQEM597EM"
   },
   "outputs": [],
   "source": [
    "dataset_summary = summary_df(train)"
   ]
  },
  {
   "cell_type": "code",
   "execution_count": 8,
   "metadata": {
    "colab": {
     "base_uri": "https://localhost:8080/"
    },
    "id": "7XhLChFY-XIB",
    "outputId": "f39676c0-48d2-422b-8fef-5c70163e098c"
   },
   "outputs": [
    {
     "data": {
      "text/html": [
       "<div>\n",
       "<style scoped>\n",
       "    .dataframe tbody tr th:only-of-type {\n",
       "        vertical-align: middle;\n",
       "    }\n",
       "\n",
       "    .dataframe tbody tr th {\n",
       "        vertical-align: top;\n",
       "    }\n",
       "\n",
       "    .dataframe thead th {\n",
       "        text-align: right;\n",
       "    }\n",
       "</style>\n",
       "<table border=\"1\" class=\"dataframe\">\n",
       "  <thead>\n",
       "    <tr style=\"text-align: right;\">\n",
       "      <th></th>\n",
       "      <th>index</th>\n",
       "      <th>variable</th>\n",
       "      <th>no_missing_values</th>\n",
       "      <th>nunique</th>\n",
       "      <th>dtype</th>\n",
       "      <th>values</th>\n",
       "    </tr>\n",
       "  </thead>\n",
       "  <tbody>\n",
       "    <tr>\n",
       "      <th>0</th>\n",
       "      <td>34</td>\n",
       "      <td>employment_occupation</td>\n",
       "      <td>13470</td>\n",
       "      <td>23</td>\n",
       "      <td>object</td>\n",
       "      <td>[nan, xgwztkwe, xtkaffoo, emcorrxb, vlluhbov, ...</td>\n",
       "    </tr>\n",
       "    <tr>\n",
       "      <th>1</th>\n",
       "      <td>33</td>\n",
       "      <td>employment_industry</td>\n",
       "      <td>13330</td>\n",
       "      <td>21</td>\n",
       "      <td>object</td>\n",
       "      <td>[nan, pxcmvdjn, rucpziij, wxleyezf, saaquncn, ...</td>\n",
       "    </tr>\n",
       "    <tr>\n",
       "      <th>2</th>\n",
       "      <td>14</td>\n",
       "      <td>health_insurance</td>\n",
       "      <td>12274</td>\n",
       "      <td>2</td>\n",
       "      <td>float64</td>\n",
       "      <td>[0.0, 1.0]</td>\n",
       "    </tr>\n",
       "    <tr>\n",
       "      <th>3</th>\n",
       "      <td>25</td>\n",
       "      <td>income_poverty</td>\n",
       "      <td>4423</td>\n",
       "      <td>3</td>\n",
       "      <td>object</td>\n",
       "      <td>[Below Poverty, &lt;= $75,000, Above Poverty, &gt; $...</td>\n",
       "    </tr>\n",
       "    <tr>\n",
       "      <th>4</th>\n",
       "      <td>9</td>\n",
       "      <td>doctor_recc_h1n1</td>\n",
       "      <td>2160</td>\n",
       "      <td>2</td>\n",
       "      <td>float64</td>\n",
       "      <td>[0.0, 1.0]</td>\n",
       "    </tr>\n",
       "    <tr>\n",
       "      <th>5</th>\n",
       "      <td>10</td>\n",
       "      <td>doctor_recc_seasonal</td>\n",
       "      <td>2160</td>\n",
       "      <td>2</td>\n",
       "      <td>float64</td>\n",
       "      <td>[0.0, 1.0]</td>\n",
       "    </tr>\n",
       "    <tr>\n",
       "      <th>6</th>\n",
       "      <td>27</td>\n",
       "      <td>rent_or_own</td>\n",
       "      <td>2042</td>\n",
       "      <td>2</td>\n",
       "      <td>object</td>\n",
       "      <td>[Own, Rent, nan]</td>\n",
       "    </tr>\n",
       "    <tr>\n",
       "      <th>7</th>\n",
       "      <td>28</td>\n",
       "      <td>employment_status</td>\n",
       "      <td>1463</td>\n",
       "      <td>3</td>\n",
       "      <td>object</td>\n",
       "      <td>[Not in Labor Force, Employed, Unemployed, nan]</td>\n",
       "    </tr>\n",
       "    <tr>\n",
       "      <th>8</th>\n",
       "      <td>26</td>\n",
       "      <td>marital_status</td>\n",
       "      <td>1408</td>\n",
       "      <td>2</td>\n",
       "      <td>object</td>\n",
       "      <td>[Not Married, Married, nan]</td>\n",
       "    </tr>\n",
       "    <tr>\n",
       "      <th>9</th>\n",
       "      <td>22</td>\n",
       "      <td>education</td>\n",
       "      <td>1407</td>\n",
       "      <td>4</td>\n",
       "      <td>object</td>\n",
       "      <td>[&lt; 12 Years, 12 Years, College Graduate, Some ...</td>\n",
       "    </tr>\n",
       "    <tr>\n",
       "      <th>10</th>\n",
       "      <td>11</td>\n",
       "      <td>chronic_med_condition</td>\n",
       "      <td>971</td>\n",
       "      <td>2</td>\n",
       "      <td>float64</td>\n",
       "      <td>[0.0, 1.0]</td>\n",
       "    </tr>\n",
       "    <tr>\n",
       "      <th>11</th>\n",
       "      <td>12</td>\n",
       "      <td>child_under_6_months</td>\n",
       "      <td>820</td>\n",
       "      <td>2</td>\n",
       "      <td>float64</td>\n",
       "      <td>[0.0, 1.0]</td>\n",
       "    </tr>\n",
       "    <tr>\n",
       "      <th>12</th>\n",
       "      <td>13</td>\n",
       "      <td>health_worker</td>\n",
       "      <td>804</td>\n",
       "      <td>2</td>\n",
       "      <td>float64</td>\n",
       "      <td>[0.0, 1.0]</td>\n",
       "    </tr>\n",
       "    <tr>\n",
       "      <th>13</th>\n",
       "      <td>20</td>\n",
       "      <td>opinion_seas_sick_from_vacc</td>\n",
       "      <td>537</td>\n",
       "      <td>5</td>\n",
       "      <td>float64</td>\n",
       "      <td>[1.0, 5.0]</td>\n",
       "    </tr>\n",
       "    <tr>\n",
       "      <th>14</th>\n",
       "      <td>19</td>\n",
       "      <td>opinion_seas_risk</td>\n",
       "      <td>514</td>\n",
       "      <td>5</td>\n",
       "      <td>float64</td>\n",
       "      <td>[1.0, 5.0]</td>\n",
       "    </tr>\n",
       "    <tr>\n",
       "      <th>15</th>\n",
       "      <td>18</td>\n",
       "      <td>opinion_seas_vacc_effective</td>\n",
       "      <td>462</td>\n",
       "      <td>5</td>\n",
       "      <td>float64</td>\n",
       "      <td>[1.0, 5.0]</td>\n",
       "    </tr>\n",
       "    <tr>\n",
       "      <th>16</th>\n",
       "      <td>17</td>\n",
       "      <td>opinion_h1n1_sick_from_vacc</td>\n",
       "      <td>395</td>\n",
       "      <td>5</td>\n",
       "      <td>float64</td>\n",
       "      <td>[1.0, 5.0]</td>\n",
       "    </tr>\n",
       "    <tr>\n",
       "      <th>17</th>\n",
       "      <td>15</td>\n",
       "      <td>opinion_h1n1_vacc_effective</td>\n",
       "      <td>391</td>\n",
       "      <td>5</td>\n",
       "      <td>float64</td>\n",
       "      <td>[1.0, 5.0]</td>\n",
       "    </tr>\n",
       "    <tr>\n",
       "      <th>18</th>\n",
       "      <td>16</td>\n",
       "      <td>opinion_h1n1_risk</td>\n",
       "      <td>388</td>\n",
       "      <td>5</td>\n",
       "      <td>float64</td>\n",
       "      <td>[1.0, 5.0]</td>\n",
       "    </tr>\n",
       "    <tr>\n",
       "      <th>19</th>\n",
       "      <td>31</td>\n",
       "      <td>household_adults</td>\n",
       "      <td>249</td>\n",
       "      <td>4</td>\n",
       "      <td>float64</td>\n",
       "      <td>[0.0, 3.0]</td>\n",
       "    </tr>\n",
       "    <tr>\n",
       "      <th>20</th>\n",
       "      <td>32</td>\n",
       "      <td>household_children</td>\n",
       "      <td>249</td>\n",
       "      <td>4</td>\n",
       "      <td>float64</td>\n",
       "      <td>[0.0, 3.0]</td>\n",
       "    </tr>\n",
       "    <tr>\n",
       "      <th>21</th>\n",
       "      <td>3</td>\n",
       "      <td>behavioral_avoidance</td>\n",
       "      <td>208</td>\n",
       "      <td>2</td>\n",
       "      <td>float64</td>\n",
       "      <td>[0.0, 1.0]</td>\n",
       "    </tr>\n",
       "    <tr>\n",
       "      <th>22</th>\n",
       "      <td>8</td>\n",
       "      <td>behavioral_touch_face</td>\n",
       "      <td>128</td>\n",
       "      <td>2</td>\n",
       "      <td>float64</td>\n",
       "      <td>[0.0, 1.0]</td>\n",
       "    </tr>\n",
       "    <tr>\n",
       "      <th>23</th>\n",
       "      <td>1</td>\n",
       "      <td>h1n1_knowledge</td>\n",
       "      <td>116</td>\n",
       "      <td>3</td>\n",
       "      <td>float64</td>\n",
       "      <td>[0.0, 2.0]</td>\n",
       "    </tr>\n",
       "    <tr>\n",
       "      <th>24</th>\n",
       "      <td>0</td>\n",
       "      <td>h1n1_concern</td>\n",
       "      <td>92</td>\n",
       "      <td>4</td>\n",
       "      <td>float64</td>\n",
       "      <td>[0.0, 3.0]</td>\n",
       "    </tr>\n",
       "    <tr>\n",
       "      <th>25</th>\n",
       "      <td>6</td>\n",
       "      <td>behavioral_large_gatherings</td>\n",
       "      <td>87</td>\n",
       "      <td>2</td>\n",
       "      <td>float64</td>\n",
       "      <td>[0.0, 1.0]</td>\n",
       "    </tr>\n",
       "    <tr>\n",
       "      <th>26</th>\n",
       "      <td>7</td>\n",
       "      <td>behavioral_outside_home</td>\n",
       "      <td>82</td>\n",
       "      <td>2</td>\n",
       "      <td>float64</td>\n",
       "      <td>[0.0, 1.0]</td>\n",
       "    </tr>\n",
       "    <tr>\n",
       "      <th>27</th>\n",
       "      <td>2</td>\n",
       "      <td>behavioral_antiviral_meds</td>\n",
       "      <td>71</td>\n",
       "      <td>2</td>\n",
       "      <td>float64</td>\n",
       "      <td>[0.0, 1.0]</td>\n",
       "    </tr>\n",
       "    <tr>\n",
       "      <th>28</th>\n",
       "      <td>5</td>\n",
       "      <td>behavioral_wash_hands</td>\n",
       "      <td>42</td>\n",
       "      <td>2</td>\n",
       "      <td>float64</td>\n",
       "      <td>[0.0, 1.0]</td>\n",
       "    </tr>\n",
       "    <tr>\n",
       "      <th>29</th>\n",
       "      <td>4</td>\n",
       "      <td>behavioral_face_mask</td>\n",
       "      <td>19</td>\n",
       "      <td>2</td>\n",
       "      <td>float64</td>\n",
       "      <td>[0.0, 1.0]</td>\n",
       "    </tr>\n",
       "    <tr>\n",
       "      <th>30</th>\n",
       "      <td>24</td>\n",
       "      <td>sex</td>\n",
       "      <td>0</td>\n",
       "      <td>2</td>\n",
       "      <td>object</td>\n",
       "      <td>[Female, Male]</td>\n",
       "    </tr>\n",
       "    <tr>\n",
       "      <th>31</th>\n",
       "      <td>23</td>\n",
       "      <td>race</td>\n",
       "      <td>0</td>\n",
       "      <td>4</td>\n",
       "      <td>object</td>\n",
       "      <td>[White, Black, Other or Multiple, Hispanic]</td>\n",
       "    </tr>\n",
       "    <tr>\n",
       "      <th>32</th>\n",
       "      <td>21</td>\n",
       "      <td>age_group</td>\n",
       "      <td>0</td>\n",
       "      <td>5</td>\n",
       "      <td>object</td>\n",
       "      <td>[55 - 64 Years, 35 - 44 Years, 18 - 34 Years, ...</td>\n",
       "    </tr>\n",
       "    <tr>\n",
       "      <th>33</th>\n",
       "      <td>29</td>\n",
       "      <td>hhs_geo_region</td>\n",
       "      <td>0</td>\n",
       "      <td>10</td>\n",
       "      <td>object</td>\n",
       "      <td>[oxchjgsf, bhuqouqj, qufhixun, lrircsnp, atmpe...</td>\n",
       "    </tr>\n",
       "    <tr>\n",
       "      <th>34</th>\n",
       "      <td>30</td>\n",
       "      <td>census_msa</td>\n",
       "      <td>0</td>\n",
       "      <td>3</td>\n",
       "      <td>object</td>\n",
       "      <td>[Non-MSA, MSA, Not Principle  City, MSA, Princ...</td>\n",
       "    </tr>\n",
       "    <tr>\n",
       "      <th>35</th>\n",
       "      <td>35</td>\n",
       "      <td>h1n1_vaccine</td>\n",
       "      <td>0</td>\n",
       "      <td>2</td>\n",
       "      <td>int64</td>\n",
       "      <td>[0, 1]</td>\n",
       "    </tr>\n",
       "    <tr>\n",
       "      <th>36</th>\n",
       "      <td>36</td>\n",
       "      <td>seasonal_vaccine</td>\n",
       "      <td>0</td>\n",
       "      <td>2</td>\n",
       "      <td>int64</td>\n",
       "      <td>[0, 1]</td>\n",
       "    </tr>\n",
       "  </tbody>\n",
       "</table>\n",
       "</div>"
      ],
      "text/plain": [
       "    index                     variable no_missing_values nunique    dtype  \\\n",
       "0      34        employment_occupation             13470      23   object   \n",
       "1      33          employment_industry             13330      21   object   \n",
       "2      14             health_insurance             12274       2  float64   \n",
       "3      25               income_poverty              4423       3   object   \n",
       "4       9             doctor_recc_h1n1              2160       2  float64   \n",
       "5      10         doctor_recc_seasonal              2160       2  float64   \n",
       "6      27                  rent_or_own              2042       2   object   \n",
       "7      28            employment_status              1463       3   object   \n",
       "8      26               marital_status              1408       2   object   \n",
       "9      22                    education              1407       4   object   \n",
       "10     11        chronic_med_condition               971       2  float64   \n",
       "11     12         child_under_6_months               820       2  float64   \n",
       "12     13                health_worker               804       2  float64   \n",
       "13     20  opinion_seas_sick_from_vacc               537       5  float64   \n",
       "14     19            opinion_seas_risk               514       5  float64   \n",
       "15     18  opinion_seas_vacc_effective               462       5  float64   \n",
       "16     17  opinion_h1n1_sick_from_vacc               395       5  float64   \n",
       "17     15  opinion_h1n1_vacc_effective               391       5  float64   \n",
       "18     16            opinion_h1n1_risk               388       5  float64   \n",
       "19     31             household_adults               249       4  float64   \n",
       "20     32           household_children               249       4  float64   \n",
       "21      3         behavioral_avoidance               208       2  float64   \n",
       "22      8        behavioral_touch_face               128       2  float64   \n",
       "23      1               h1n1_knowledge               116       3  float64   \n",
       "24      0                 h1n1_concern                92       4  float64   \n",
       "25      6  behavioral_large_gatherings                87       2  float64   \n",
       "26      7      behavioral_outside_home                82       2  float64   \n",
       "27      2    behavioral_antiviral_meds                71       2  float64   \n",
       "28      5        behavioral_wash_hands                42       2  float64   \n",
       "29      4         behavioral_face_mask                19       2  float64   \n",
       "30     24                          sex                 0       2   object   \n",
       "31     23                         race                 0       4   object   \n",
       "32     21                    age_group                 0       5   object   \n",
       "33     29               hhs_geo_region                 0      10   object   \n",
       "34     30                   census_msa                 0       3   object   \n",
       "35     35                 h1n1_vaccine                 0       2    int64   \n",
       "36     36             seasonal_vaccine                 0       2    int64   \n",
       "\n",
       "                                               values  \n",
       "0   [nan, xgwztkwe, xtkaffoo, emcorrxb, vlluhbov, ...  \n",
       "1   [nan, pxcmvdjn, rucpziij, wxleyezf, saaquncn, ...  \n",
       "2                                          [0.0, 1.0]  \n",
       "3   [Below Poverty, <= $75,000, Above Poverty, > $...  \n",
       "4                                          [0.0, 1.0]  \n",
       "5                                          [0.0, 1.0]  \n",
       "6                                    [Own, Rent, nan]  \n",
       "7     [Not in Labor Force, Employed, Unemployed, nan]  \n",
       "8                         [Not Married, Married, nan]  \n",
       "9   [< 12 Years, 12 Years, College Graduate, Some ...  \n",
       "10                                         [0.0, 1.0]  \n",
       "11                                         [0.0, 1.0]  \n",
       "12                                         [0.0, 1.0]  \n",
       "13                                         [1.0, 5.0]  \n",
       "14                                         [1.0, 5.0]  \n",
       "15                                         [1.0, 5.0]  \n",
       "16                                         [1.0, 5.0]  \n",
       "17                                         [1.0, 5.0]  \n",
       "18                                         [1.0, 5.0]  \n",
       "19                                         [0.0, 3.0]  \n",
       "20                                         [0.0, 3.0]  \n",
       "21                                         [0.0, 1.0]  \n",
       "22                                         [0.0, 1.0]  \n",
       "23                                         [0.0, 2.0]  \n",
       "24                                         [0.0, 3.0]  \n",
       "25                                         [0.0, 1.0]  \n",
       "26                                         [0.0, 1.0]  \n",
       "27                                         [0.0, 1.0]  \n",
       "28                                         [0.0, 1.0]  \n",
       "29                                         [0.0, 1.0]  \n",
       "30                                     [Female, Male]  \n",
       "31        [White, Black, Other or Multiple, Hispanic]  \n",
       "32  [55 - 64 Years, 35 - 44 Years, 18 - 34 Years, ...  \n",
       "33  [oxchjgsf, bhuqouqj, qufhixun, lrircsnp, atmpe...  \n",
       "34  [Non-MSA, MSA, Not Principle  City, MSA, Princ...  \n",
       "35                                             [0, 1]  \n",
       "36                                             [0, 1]  "
      ]
     },
     "execution_count": 8,
     "metadata": {},
     "output_type": "execute_result"
    }
   ],
   "source": [
    "dataset_summary.sort_values(by='no_missing_values', ascending=False).reset_index()"
   ]
  },
  {
   "cell_type": "markdown",
   "metadata": {
    "id": "m9OKcOTI-m1Y"
   },
   "source": [
    "Observations:\n",
    "* Almost all the attributes are a categorical variables except household_adults and household_children which are numerical variables.\n",
    "* Categorical variables consist of 18 binary variables, 6 nomial variables, and 11 ordinal variables.\n",
    "* Most of the attributes have a missing values. The attributes that have a highest number of missing values are employment_occupation, employment_industry, and health_insurance"
   ]
  },
  {
   "cell_type": "markdown",
   "metadata": {
    "id": "JaYKAIPLEoud"
   },
   "source": [
    "### 2.4 Target distribution"
   ]
  },
  {
   "cell_type": "markdown",
   "metadata": {
    "id": "ML5RXTIFEse4"
   },
   "source": [
    "This dataset problem are multilabel classification, so there must be a respondent who got both the h1n1 and the seasonal vaccines. "
   ]
  },
  {
   "cell_type": "code",
   "execution_count": 9,
   "metadata": {
    "cellView": "form",
    "id": "-AnWfUWmFjL5"
   },
   "outputs": [],
   "source": [
    "#@title target_groups and counter\n",
    "def target_groups(target):\n",
    "    target = target.copy()\n",
    "\n",
    "    # filter\n",
    "    only_h1n1 = (target['h1n1_vaccine'] == 1) & (target['seasonal_vaccine'] == 0)\n",
    "    only_seasonal = (target['h1n1_vaccine'] == 0) & (target['seasonal_vaccine'] == 1)\n",
    "    both_vaccines = (target['h1n1_vaccine'] == 1) & (target['seasonal_vaccine'] == 1)\n",
    "    neither_vaccines = (target['h1n1_vaccine'] == 0) & (target['seasonal_vaccine'] == 0)\n",
    "\n",
    "    # create new target for plotting\n",
    "    target['only_h1n1'] = (only_h1n1 == True).astype(int)\n",
    "    target['only_seasonal'] = (only_seasonal == True).astype(int)\n",
    "    target['both_vaccines'] = (both_vaccines == True).astype(int)\n",
    "    target['no_vaccines'] = (neither_vaccines == True).astype(int)\n",
    "\n",
    "    return target\n",
    "\n",
    "def multilabel_count(target):\n",
    "    target = target.copy()\n",
    "\n",
    "    label = []\n",
    "    # count the values of every group\n",
    "    for col in list(target.columns)[3:]:\n",
    "        label.append((col, target[col].sum()))\n",
    "\n",
    "    count_df = pd.DataFrame(label, columns=['label', 'count'])\n",
    "    count_df['percentage'] = (count_df['count'] * 100 / target.shape[0]).round(2)\n",
    "\n",
    "    return count_df"
   ]
  },
  {
   "cell_type": "code",
   "execution_count": 10,
   "metadata": {
    "id": "aYWviu6MGwTY"
   },
   "outputs": [],
   "source": [
    "targets = target_groups(targets)\n",
    "targets_count = multilabel_count(targets)"
   ]
  },
  {
   "cell_type": "code",
   "execution_count": 12,
   "metadata": {
    "cellView": "form",
    "colab": {
     "base_uri": "https://localhost:8080/",
     "height": 606
    },
    "id": "EtdNK03KHz1K",
    "outputId": "456b2808-8886-4fb4-ab75-b40cc26c6618"
   },
   "outputs": [
    {
     "data": {
      "image/png": "[encoded data removed]",
      "text/plain": [
       "<Figure size 4500x2400 with 1 Axes>"
      ]
     },
     "metadata": {
      "needs_background": "light"
     },
     "output_type": "display_data"
    }
   ],
   "source": [
    "#@title barplot\n",
    "# data for plotting\n",
    "categories = targets_count['label'].values\n",
    "category_count = targets_count['count'].values\n",
    "\n",
    "# color palette\n",
    "colors_dark = [\"#1F1F1F\", \"#313131\", '#636363', '#AEAEAE', '#DADADA']\n",
    "\n",
    "# initialize the figure and axes\n",
    "fig, ax = plt.subplots(1, 1, figsize=(15, 8), dpi=300)\n",
    "\n",
    "# bar\n",
    "ax.bar(categories, category_count, color=colors_dark[3],\n",
    "        width=0.6, linewidth=0.7,alpha=0.8)\n",
    "\n",
    "# annotate\n",
    "for i, count in enumerate(category_count):\n",
    "    ax.annotate(\n",
    "        f\"{count} ({(100* count/np.sum(category_count)):.1f}%)\", xy=(i, count + 300), \n",
    "        color='#4a4a4a', fontsize=14,\n",
    "        va = 'center', ha='center', \n",
    "    )\n",
    "\n",
    "# hide box line\n",
    "for s in ['top', 'left', 'right']:\n",
    "    ax.spines[s].set_visible(False)\n",
    "\n",
    "# y limit\n",
    "ax.set_ylim(0, 14000)\n",
    "\n",
    "# grid\n",
    "ax.grid(axis='y', alpha=0.3)\n",
    "\n",
    "# ticks\n",
    "ax.set_xticklabels(categories, fontsize=14)\n",
    "ax.set_yticklabels(np.arange(0, 14001, 2000), fontsize=14)\n",
    "\n",
    "# labels\n",
    "ax.set_xlabel(\"\\nVaccines\", fontsize=14, fontweight='bold')\n",
    "ax.set_ylabel(\"Count\\n\", fontsize=14, fontweight='bold')\n",
    "\n",
    "# plot title\n",
    "xmin, xmax = ax.get_xlim()\n",
    "ymin, ymax = ax.get_ylim()\n",
    "\n",
    "# title\n",
    "plt.text(s=\"\\nThe total number of vaccinated and not vaccinated respondents\", \n",
    "         ha='left', x=xmin, y=ymax*1.2, fontsize=20, fontweight='bold', color=colors_dark[0])\n",
    "plt.text(s=f\"There are {np.sum(category_count)} respondents. 52.8% of them are vaccinated\", \n",
    "         ha='left', x=xmin, y=ymax*1.16, fontsize=14, color=colors_dark[0])\n",
    "plt.show()"
   ]
  },
  {
   "cell_type": "markdown",
   "metadata": {
    "id": "9CXnBdd7RuUn"
   },
   "source": [
    "## 3. Data Preprocessing"
   ]
  },
  {
   "cell_type": "markdown",
   "metadata": {
    "id": "GVcew9wfVIhv"
   },
   "source": [
    "### 3.1 Set up a validation framework"
   ]
  },
  {
   "cell_type": "markdown",
   "metadata": {
    "id": "hW-PcZHeKabT"
   },
   "source": [
    "The train dataset were splitted into two sets, one for training set and the other is test set. The ratio of training and test set are 80:20."
   ]
  },
  {
   "cell_type": "code",
   "execution_count": 13,
   "metadata": {
    "id": "yUSoQ6GdVQI-"
   },
   "outputs": [],
   "source": [
    "X_train, X_val, y_train, y_val = train_test_split(\n",
    "    train.drop(['h1n1_vaccine', 'seasonal_vaccine'], axis=1),\n",
    "    train[['h1n1_vaccine', 'seasonal_vaccine']],\n",
    "    test_size=0.2,\n",
    "    random_state=1,\n",
    "    stratify=train[['h1n1_vaccine', 'seasonal_vaccine']]\n",
    ")"
   ]
  },
  {
   "cell_type": "code",
   "execution_count": 14,
   "metadata": {
    "colab": {
     "base_uri": "https://localhost:8080/"
    },
    "id": "jaCz2GGSVlb0",
    "outputId": "8d371e68-c066-405e-e5c3-2e73e4390c54"
   },
   "outputs": [
    {
     "data": {
      "text/plain": [
       "((21365, 35), (5342, 35), (21365, 2), (5342, 2))"
      ]
     },
     "execution_count": 14,
     "metadata": {},
     "output_type": "execute_result"
    }
   ],
   "source": [
    "X_train.shape, X_val.shape, y_train.shape, y_val.shape"
   ]
  },
  {
   "cell_type": "markdown",
   "metadata": {
    "id": "HgfPclgeSksM"
   },
   "source": [
    "### 3.2 Impute missing values and one-hot encode"
   ]
  },
  {
   "cell_type": "markdown",
   "metadata": {
    "id": "xYbzwofEJYrb"
   },
   "source": [
    "For simplicity, the missing values will be imputed by each attribute mode."
   ]
  },
  {
   "cell_type": "code",
   "execution_count": 15,
   "metadata": {
    "id": "tydTS4vRJVbY"
   },
   "outputs": [],
   "source": [
    "def impute(X):\n",
    "    X = X.copy()\n",
    "\n",
    "    for col in list(X.columns):\n",
    "        if X[col].isnull().sum() > 0:\n",
    "           X[col] = X[col].fillna(X[col].mode()[0])\n",
    "    \n",
    "    return X"
   ]
  },
  {
   "cell_type": "markdown",
   "metadata": {
    "id": "4sTjijnUGb1g"
   },
   "source": [
    "We applied a one-hot encode to remaining categorical variables that still in object dtype such as:"
   ]
  },
  {
   "cell_type": "code",
   "execution_count": 16,
   "metadata": {
    "colab": {
     "base_uri": "https://localhost:8080/"
    },
    "id": "PCRWZnMmGvDX",
    "outputId": "8881015f-1cf3-4514-b044-df849920d730"
   },
   "outputs": [
    {
     "data": {
      "text/plain": [
       "Index(['age_group', 'education', 'race', 'sex', 'income_poverty',\n",
       "       'marital_status', 'rent_or_own', 'employment_status', 'hhs_geo_region',\n",
       "       'census_msa', 'employment_industry', 'employment_occupation'],\n",
       "      dtype='object')"
      ]
     },
     "execution_count": 16,
     "metadata": {},
     "output_type": "execute_result"
    }
   ],
   "source": [
    "train.select_dtypes('O').columns"
   ]
  },
  {
   "cell_type": "markdown",
   "metadata": {
    "id": "tdqZaJs2G3tz"
   },
   "source": [
    "To easily encoded the remaining variables, DictVectorizer were used. Before using it, we need to transform our features matrix into dictionary. \n",
    "\n",
    "I built the pipeline for preprocessing that consists of: \n",
    "* An user-defined transformer to impute missing values and transform pd.DataFrame into dictionary.\n",
    "* DictVectorizer to encode the categorical variables and smart enough to not encode the numerical variables."
   ]
  },
  {
   "cell_type": "code",
   "execution_count": 17,
   "metadata": {
    "id": "E5wg9v-IT3c9"
   },
   "outputs": [],
   "source": [
    "def dict_input(X):\n",
    "    return X.to_dict(orient='records')\n",
    "\n",
    "def preprocess(X_train, X_val):\n",
    "    # transform to dict then one-hot encode the categorical features\n",
    "    pipeline = make_pipeline(\n",
    "        FunctionTransformer(impute),\n",
    "        FunctionTransformer(dict_input),\n",
    "        DictVectorizer(sparse=False),\n",
    "    )\n",
    "\n",
    "    # fit and transform\n",
    "    X_train = pipeline.fit_transform(X_train)\n",
    "    X_val = pipeline.transform(X_val)\n",
    "\n",
    "    # return dataframe\n",
    "    feature_names = pipeline[-1].get_feature_names_out()\n",
    "    X_train = pd.DataFrame(X_train, columns=feature_names)\n",
    "    X_val = pd.DataFrame(X_val, columns=feature_names)\n",
    "\n",
    "    return X_train, X_val, pipeline"
   ]
  },
  {
   "cell_type": "code",
   "execution_count": 18,
   "metadata": {
    "colab": {
     "base_uri": "https://localhost:8080/"
    },
    "id": "-D8sE1xrTHEP",
    "outputId": "25a50be4-9ac3-40cc-a348-663895e2cf45"
   },
   "outputs": [
    {
     "data": {
      "text/plain": [
       "((21365, 105), (5342, 105), (21365, 2), (5342, 2))"
      ]
     },
     "execution_count": 18,
     "metadata": {},
     "output_type": "execute_result"
    }
   ],
   "source": [
    "X_train_processed, X_val_processed, preprocessor = preprocess(X_train, X_val)\n",
    "X_train_processed.shape, X_val_processed.shape, y_train.shape, y_val.shape"
   ]
  },
  {
   "cell_type": "markdown",
   "metadata": {
    "id": "ieO4EVmdH8wP"
   },
   "source": [
    "Now, the total number of features are 105 compared to original features, we got a 70 additional features. Let's verify if both features and labels matrix do not have a missing values anymore."
   ]
  },
  {
   "cell_type": "code",
   "execution_count": 19,
   "metadata": {
    "colab": {
     "base_uri": "https://localhost:8080/"
    },
    "id": "jsd7zKzbKLwV",
    "outputId": "1991c750-816b-4e0d-b5c4-67b011f949fa"
   },
   "outputs": [
    {
     "data": {
      "text/plain": [
       "(0, 0, 0, 0)"
      ]
     },
     "execution_count": 19,
     "metadata": {},
     "output_type": "execute_result"
    }
   ],
   "source": [
    "(X_train_processed.isnull().sum().sum(), \n",
    " X_val_processed.isnull().sum().sum(),\n",
    " y_train.isnull().sum().sum(),\n",
    " y_val.isnull().sum().sum())"
   ]
  },
  {
   "cell_type": "markdown",
   "metadata": {
    "id": "M5Uu-f7qWiHx"
   },
   "source": [
    "## 4. Modelling"
   ]
  },
  {
   "cell_type": "markdown",
   "metadata": {
    "id": "YPU6UpdzWkQd"
   },
   "source": [
    "To build a model, I will use Multi Output Classifier and Classifier Chain from scikit-learn that are suitable for multilabel classification problem. The selected model are Decision Tree, Random Forest, Extra Trees, and XGB. I assumed the max_depth equals to 6 as initial guess. To evaluate the performance of both approach, Multi Output Classifier and Classfier Chain, I will do a repeated k-fold cross validation with 5 splits and 2 repeats."
   ]
  },
  {
   "cell_type": "code",
   "execution_count": 20,
   "metadata": {
    "id": "T9iGzfGVLBEM"
   },
   "outputs": [],
   "source": [
    "clf_grid = [\n",
    "        (\"DecisionTreeClassifier\", DecisionTreeClassifier(max_depth=6, random_state=1)), \n",
    "        (\"ExtraTreesClassifier\", ExtraTreesClassifier(max_depth=6, random_state=1)),\n",
    "        (\"RandomForestClassifier\", RandomForestClassifier(max_depth=6, random_state=1)),\n",
    "        (\"XGBClassifier\", XGBClassifier(max_depth=6, random_state=1)),\n",
    "]"
   ]
  },
  {
   "cell_type": "markdown",
   "metadata": {
    "id": "gZDF8pFJZM_H"
   },
   "source": [
    "### 4.1 MultiOutputClassifier"
   ]
  },
  {
   "cell_type": "code",
   "execution_count": 21,
   "metadata": {
    "colab": {
     "base_uri": "https://localhost:8080/",
     "height": 307
    },
    "id": "oxTKt1wrZM_J",
    "outputId": "f8bbc61a-dc55-4a6a-c6ff-b8e3a224301d"
   },
   "outputs": [
    {
     "name": "stderr",
     "output_type": "stream",
     "text": [
      "10it [00:57,  5.76s/it]\n",
      "10it [02:59, 17.94s/it]\n",
      "10it [02:22, 14.22s/it]\n",
      "10it [06:54, 41.43s/it]\n"
     ]
    },
    {
     "data": {
      "text/html": [
       "<div>\n",
       "<style scoped>\n",
       "    .dataframe tbody tr th:only-of-type {\n",
       "        vertical-align: middle;\n",
       "    }\n",
       "\n",
       "    .dataframe tbody tr th {\n",
       "        vertical-align: top;\n",
       "    }\n",
       "\n",
       "    .dataframe thead tr th {\n",
       "        text-align: left;\n",
       "    }\n",
       "\n",
       "    .dataframe thead tr:last-of-type th {\n",
       "        text-align: right;\n",
       "    }\n",
       "</style>\n",
       "<table border=\"1\" class=\"dataframe\">\n",
       "  <thead>\n",
       "    <tr>\n",
       "      <th></th>\n",
       "      <th colspan=\"2\" halign=\"left\">auc_train</th>\n",
       "      <th colspan=\"2\" halign=\"left\">auc_val</th>\n",
       "    </tr>\n",
       "    <tr>\n",
       "      <th></th>\n",
       "      <th>mean</th>\n",
       "      <th>std</th>\n",
       "      <th>mean</th>\n",
       "      <th>std</th>\n",
       "    </tr>\n",
       "    <tr>\n",
       "      <th>name</th>\n",
       "      <th></th>\n",
       "      <th></th>\n",
       "      <th></th>\n",
       "      <th></th>\n",
       "    </tr>\n",
       "  </thead>\n",
       "  <tbody>\n",
       "    <tr>\n",
       "      <th>DecisionTreeClassifier</th>\n",
       "      <td>0.8354</td>\n",
       "      <td>0.0012</td>\n",
       "      <td>0.8234</td>\n",
       "      <td>0.0039</td>\n",
       "    </tr>\n",
       "    <tr>\n",
       "      <th>ExtraTreesClassifier</th>\n",
       "      <td>0.8378</td>\n",
       "      <td>0.0017</td>\n",
       "      <td>0.8284</td>\n",
       "      <td>0.0041</td>\n",
       "    </tr>\n",
       "    <tr>\n",
       "      <th>RandomForestClassifier</th>\n",
       "      <td>0.8429</td>\n",
       "      <td>0.0011</td>\n",
       "      <td>0.8334</td>\n",
       "      <td>0.0042</td>\n",
       "    </tr>\n",
       "    <tr>\n",
       "      <th>XGBClassifier</th>\n",
       "      <td>0.9044</td>\n",
       "      <td>0.0012</td>\n",
       "      <td>0.8489</td>\n",
       "      <td>0.0045</td>\n",
       "    </tr>\n",
       "  </tbody>\n",
       "</table>\n",
       "</div>"
      ],
      "text/plain": [
       "                       auc_train         auc_val        \n",
       "                            mean     std    mean     std\n",
       "name                                                    \n",
       "DecisionTreeClassifier    0.8354  0.0012  0.8234  0.0039\n",
       "ExtraTreesClassifier      0.8378  0.0017  0.8284  0.0041\n",
       "RandomForestClassifier    0.8429  0.0011  0.8334  0.0042\n",
       "XGBClassifier             0.9044  0.0012  0.8489  0.0045"
      ]
     },
     "metadata": {},
     "output_type": "display_data"
    }
   ],
   "source": [
    "def multi_output_clf(clf, X_train, X_test, y_train, y_test):\n",
    "    # data preprocessing\n",
    "    X_train, X_test, preprocessor = preprocess(X_train, X_test)\n",
    "    \n",
    "    # convert to np.array\n",
    "    X_train, X_test = X_train.values, X_test.values\n",
    "    y_train, y_test = y_train.values, y_test.values\n",
    "\n",
    "    # fit the model\n",
    "    model = MultiOutputClassifier(clf)\n",
    "    model.fit(X_train, y_train)\n",
    "        \n",
    "    # predict the test set labels\n",
    "    y_pred_train = model.predict_proba(X_train)\n",
    "    y_pred_test = model.predict_proba(X_test)\n",
    "\n",
    "    # roc auc score for training set\n",
    "    auc_train_h1n1 = roc_auc_score(y_train[:, 0], y_pred_train[0][:, 1])\n",
    "    auc_train_seasonal = roc_auc_score(y_train[:, 1], y_pred_train[1][:, 1])\n",
    "    avg_auc_train = (auc_train_h1n1 + auc_train_seasonal) * 0.5\n",
    "\n",
    "    # roc auc score for validation set\n",
    "    if (y_test is not None):\n",
    "      auc_test_h1n1 = roc_auc_score(y_test[:, 0], y_pred_test[0][:, 1])\n",
    "      auc_test_seasonal = roc_auc_score(y_test[:, 1], y_pred_test[1][:, 1])\n",
    "      avg_auc_test = (auc_test_h1n1 + auc_test_seasonal) * 0.5\n",
    "      return model, preprocessor, avg_auc_train, avg_auc_test\n",
    "    \n",
    "    else:\n",
    "      return model, preprocessor, y_pred_test[0][:, 1], y_pred_test[1][:, 1]\n",
    "\n",
    "\n",
    "def cross_validation(X, y, clf_grid):\n",
    "    cv = RepeatedKFold(n_splits=5, n_repeats=2, random_state=1)\n",
    "    scores = []\n",
    "    for name, clf in clf_grid:\n",
    "        for train_idx, test_idx in tqdm(cv.split(X)):\n",
    "            # split train and test set\n",
    "            X_train, X_test = X.iloc[train_idx], X.iloc[test_idx]\n",
    "            y_train, y_test = y.iloc[train_idx], y.iloc[test_idx]\n",
    "\n",
    "            model, preprocessor, auc_train, auc_test = multi_output_clf(\n",
    "                clf, X_train, X_test, y_train, y_test\n",
    "            )\n",
    "\n",
    "            scores.append(\n",
    "                (name, auc_train, auc_test, model, preprocessor)\n",
    "            )\n",
    "    return scores\n",
    "\n",
    "def results(scores):\n",
    "    result = pd.DataFrame(\n",
    "        scores, columns=[\"name\", \"auc_train\", \"auc_val\", \"model\", \"preprocessor\"]\n",
    "    )\n",
    "    return result.groupby('name').agg(func=['mean', 'std'])\n",
    "\n",
    "if __name__ == \"__main__\":\n",
    "    # split the dataset into features and labels\n",
    "    X = train.drop(['h1n1_vaccine', 'seasonal_vaccine'], axis=1)\n",
    "    y = train[['h1n1_vaccine', 'seasonal_vaccine']]\n",
    "\n",
    "    # cross validation\n",
    "    scores = cross_validation(X, y, clf_grid)\n",
    "    results_df = results(scores)\n",
    "    display(results_df.round(4))\n",
    "\n",
    "    # initialize an empty dictionary\n",
    "    evaluation = {}\n",
    "    evaluation['multi_output_clf'] = results_df"
   ]
  },
  {
   "cell_type": "markdown",
   "metadata": {
    "id": "IXHDX_DvZM_K"
   },
   "source": [
    "### 4.2 ClassifierChain"
   ]
  },
  {
   "cell_type": "code",
   "execution_count": 22,
   "metadata": {
    "colab": {
     "base_uri": "https://localhost:8080/",
     "height": 234
    },
    "id": "o4OzkQPDZM_K",
    "outputId": "afe77bec-4d9e-4903-c48e-c31846f81152"
   },
   "outputs": [
    {
     "name": "stderr",
     "output_type": "stream",
     "text": [
      "10it [00:50,  5.04s/it]\n",
      "10it [02:41, 16.16s/it]\n",
      "10it [02:04, 12.48s/it]\n",
      "10it [06:17, 37.73s/it]\n"
     ]
    },
    {
     "data": {
      "text/html": [
       "<div>\n",
       "<style scoped>\n",
       "    .dataframe tbody tr th:only-of-type {\n",
       "        vertical-align: middle;\n",
       "    }\n",
       "\n",
       "    .dataframe tbody tr th {\n",
       "        vertical-align: top;\n",
       "    }\n",
       "\n",
       "    .dataframe thead tr th {\n",
       "        text-align: left;\n",
       "    }\n",
       "\n",
       "    .dataframe thead tr:last-of-type th {\n",
       "        text-align: right;\n",
       "    }\n",
       "</style>\n",
       "<table border=\"1\" class=\"dataframe\">\n",
       "  <thead>\n",
       "    <tr>\n",
       "      <th></th>\n",
       "      <th colspan=\"2\" halign=\"left\">auc_train</th>\n",
       "      <th colspan=\"2\" halign=\"left\">auc_val</th>\n",
       "    </tr>\n",
       "    <tr>\n",
       "      <th></th>\n",
       "      <th>mean</th>\n",
       "      <th>std</th>\n",
       "      <th>mean</th>\n",
       "      <th>std</th>\n",
       "    </tr>\n",
       "    <tr>\n",
       "      <th>name</th>\n",
       "      <th></th>\n",
       "      <th></th>\n",
       "      <th></th>\n",
       "      <th></th>\n",
       "    </tr>\n",
       "  </thead>\n",
       "  <tbody>\n",
       "    <tr>\n",
       "      <th>DecisionTreeClassifier</th>\n",
       "      <td>0.8286</td>\n",
       "      <td>0.0010</td>\n",
       "      <td>0.8182</td>\n",
       "      <td>0.0039</td>\n",
       "    </tr>\n",
       "    <tr>\n",
       "      <th>ExtraTreesClassifier</th>\n",
       "      <td>0.8363</td>\n",
       "      <td>0.0011</td>\n",
       "      <td>0.8276</td>\n",
       "      <td>0.0042</td>\n",
       "    </tr>\n",
       "    <tr>\n",
       "      <th>RandomForestClassifier</th>\n",
       "      <td>0.8419</td>\n",
       "      <td>0.0010</td>\n",
       "      <td>0.8330</td>\n",
       "      <td>0.0044</td>\n",
       "    </tr>\n",
       "    <tr>\n",
       "      <th>XGBClassifier</th>\n",
       "      <td>0.9012</td>\n",
       "      <td>0.0011</td>\n",
       "      <td>0.8473</td>\n",
       "      <td>0.0045</td>\n",
       "    </tr>\n",
       "  </tbody>\n",
       "</table>\n",
       "</div>"
      ],
      "text/plain": [
       "                       auc_train         auc_val        \n",
       "                            mean     std    mean     std\n",
       "name                                                    \n",
       "DecisionTreeClassifier    0.8286  0.0010  0.8182  0.0039\n",
       "ExtraTreesClassifier      0.8363  0.0011  0.8276  0.0042\n",
       "RandomForestClassifier    0.8419  0.0010  0.8330  0.0044\n",
       "XGBClassifier             0.9012  0.0011  0.8473  0.0045"
      ]
     },
     "metadata": {},
     "output_type": "display_data"
    }
   ],
   "source": [
    "def clf_chain(clf, X_train, X_test, y_train, y_test):\n",
    "    # data preprocessing\n",
    "    X_train, X_test, preprocessor = preprocess(X_train, X_test)\n",
    "    \n",
    "    # convert to np.array\n",
    "    X_train, X_test = X_train.values, X_test.values\n",
    "    y_train, y_test = y_train.values, y_test.values\n",
    "\n",
    "    # fit the model\n",
    "    model = ClassifierChain(clf)\n",
    "    model.fit(X_train, y_train)\n",
    "        \n",
    "    # predict the test set labels\n",
    "    y_pred_train = model.predict_proba(X_train)\n",
    "    y_pred_test = model.predict_proba(X_test)\n",
    "\n",
    "    # roc auc score for training set\n",
    "    auc_train = roc_auc_score(y_train, y_pred_train)\n",
    "    \n",
    "    # roc auc score for validation set\n",
    "    if (y_test is not None):\n",
    "      auc_test = roc_auc_score(y_test, y_pred_test)\n",
    "      return model, preprocessor, auc_train, auc_test\n",
    "    \n",
    "    else:\n",
    "      return model, preprocessor, y_pred_test\n",
    "\n",
    "\n",
    "def cross_validation(X, y, clf_grid):\n",
    "    cv = RepeatedKFold(n_splits=5, n_repeats=2, random_state=1)\n",
    "    scores = []\n",
    "    for name, clf in clf_grid:\n",
    "        for train_idx, test_idx in tqdm(cv.split(X)):\n",
    "            # split train and test set\n",
    "            X_train, X_test = X.iloc[train_idx], X.iloc[test_idx]\n",
    "            y_train, y_test = y.iloc[train_idx], y.iloc[test_idx]\n",
    "\n",
    "            model, preprocessor, auc_train, auc_test = clf_chain(\n",
    "                clf, X_train, X_test, y_train, y_test\n",
    "            )\n",
    "\n",
    "            scores.append(\n",
    "                (name, auc_train, auc_test, model, preprocessor)\n",
    "            )\n",
    "    return scores\n",
    "\n",
    "def results(scores):\n",
    "    result = pd.DataFrame(\n",
    "        scores, columns=[\"name\", \"auc_train\", \"auc_val\", \"model\", \"preprocessor\"]\n",
    "    )\n",
    "    return result.groupby('name').agg(func=['mean', 'std'])\n",
    "\n",
    "if __name__ == \"__main__\":\n",
    "    # split the dataset into features and labels\n",
    "    X = train.drop(['h1n1_vaccine', 'seasonal_vaccine'], axis=1)\n",
    "    y = train[['h1n1_vaccine', 'seasonal_vaccine']]\n",
    "\n",
    "    # cross validation\n",
    "    scores = cross_validation(X, y, clf_grid)\n",
    "    results_df = results(scores)\n",
    "    display(results_df.round(4))\n",
    "\n",
    "    # save to dictionary\n",
    "    evaluation['classifier_chain'] = results_df"
   ]
  },
  {
   "cell_type": "markdown",
   "metadata": {},
   "source": [
    "Multi Output Classifier has a ROC AUC score slightly better than Classifier Chain model. For final model, I will use Multi Output Classifier."
   ]
  },
  {
   "cell_type": "markdown",
   "metadata": {
    "id": "R34s3EEsqbCu"
   },
   "source": [
    "## Submission and final model"
   ]
  },
  {
   "cell_type": "markdown",
   "metadata": {
    "id": "PgiySE5IrBKA"
   },
   "source": [
    "In this section, all train dataset are used to build a final model for deployment and prepare the submission file. I will not use preprocessor (sklearn pipeline) to transform the data in the production code, because I found this preprocessor did not work."
   ]
  },
  {
   "cell_type": "code",
   "execution_count": 23,
   "metadata": {
    "id": "git1IWdOgMVJ"
   },
   "outputs": [
    {
     "name": "stdout",
     "output_type": "stream",
     "text": [
      "submission_4 has been saved\n",
      "the pipeline has been saved\n"
     ]
    }
   ],
   "source": [
    "def final_model(n=4):\n",
    "    # read the dataset\n",
    "    PATH = \"/mnt/c/Project/flu-shot-learning/\"\n",
    "    features = pd.read_csv(PATH + 'dataset/training_set_features.csv')\n",
    "    targets = pd.read_csv(PATH + 'dataset/training_set_labels.csv')\n",
    "    test = pd.read_csv(PATH + 'dataset/test_set_features.csv')\n",
    "    submission = pd.read_csv(PATH + 'dataset/submission_format.csv')\n",
    "\n",
    "    # concat the features and targets\n",
    "    train = pd.concat(\n",
    "        [features.drop('respondent_id', axis=1),\n",
    "        targets.drop('respondent_id', axis=1)],\n",
    "        axis=1\n",
    "    )\n",
    "\n",
    "    # split train dataset\n",
    "    X_train = train.drop(['h1n1_vaccine', 'seasonal_vaccine'], axis=1)\n",
    "    y_train = train[['h1n1_vaccine', 'seasonal_vaccine']].values\n",
    "\n",
    "    # test dataset\n",
    "    X_test = test.drop('respondent_id', axis=1)\n",
    "\n",
    "    # save features names\n",
    "    feature_names = {}\n",
    "    for feature in list(X_train.columns):\n",
    "        feature_names[feature] = list(X_train[feature].unique())\n",
    "\n",
    "    # impute missing values\n",
    "    imputer = FunctionTransformer(impute)\n",
    "    X_train = imputer.fit_transform(X_train)\n",
    "    X_test = imputer.transform(X_test)\n",
    "\n",
    "    # convert the features into a dictionary\n",
    "    X_train = X_train.to_dict(orient='records')\n",
    "    X_test = X_test.to_dict(orient='records')\n",
    "\n",
    "    # one-hot encode with DictVectorizer\n",
    "    preprocessor = DictVectorizer(sparse=False)\n",
    "    X_train = preprocessor.fit_transform(X_train)\n",
    "    X_test = preprocessor.transform(X_test)\n",
    "\n",
    "    # classifier\n",
    "    clf = XGBClassifier(max_depth=6, random_state=1)\n",
    "\n",
    "    # fit the model\n",
    "    model = MultiOutputClassifier(clf)\n",
    "    model.fit(X_train, y_train)\n",
    "\n",
    "    # predict the test set labels\n",
    "    y_pred_test = model.predict_proba(X_test)\n",
    "\n",
    "    # add predictions to submission file\n",
    "    submission['h1n1_vaccine'] = y_pred_test[0][:, 1]\n",
    "    submission['seasonal_vaccine'] = y_pred_test[1][:, 1]\n",
    "    submission.to_csv(PATH + f\"submission/submission_{n}.csv\", index=False)\n",
    "    print(f\"submission_{n} has been saved\")\n",
    "\n",
    "    return imputer, preprocessor, model, feature_names\n",
    "\n",
    "def save_pipeline(pipeline_dict):\n",
    "    PATH = \"/mnt/c/Project/flu-shot-learning/saved-pipeline/\"\n",
    "    with open(PATH + \"saved_pipeline.bin\", \"wb\") as file_in:\n",
    "         pickle.dump(pipeline_dict, file_in)\n",
    "    print(\"the pipeline has been saved\")\n",
    "\n",
    "def main():\n",
    "    # final model\n",
    "    imputer, preprocessor, model, feature_names = final_model(n=4)\n",
    "    pipeline_dict = {\n",
    "        \"imputer\": imputer,\n",
    "        \"preprocessor\": preprocessor,\n",
    "        \"model\": model,\n",
    "        \"features\": feature_names\n",
    "    }\n",
    "\n",
    "    # saved the pipeline and model\n",
    "    save_pipeline(pipeline_dict)\n",
    "\n",
    "if __name__ == '__main__':\n",
    "    main()"
   ]
  },
  {
   "cell_type": "markdown",
   "metadata": {
    "id": "OR8HOTTziOcH"
   },
   "source": [
    "Check the saved_pipeline by reading it"
   ]
  },
  {
   "cell_type": "code",
   "execution_count": 24,
   "metadata": {
    "id": "lqwbJyLBiRmn"
   },
   "outputs": [
    {
     "data": {
      "text/plain": [
       "dict_keys(['imputer', 'preprocessor', 'model', 'features'])"
      ]
     },
     "execution_count": 24,
     "metadata": {},
     "output_type": "execute_result"
    }
   ],
   "source": [
    "def load_pipeline():\n",
    "    PATH = \"/mnt/c/Project/flu-shot-learning/saved-pipeline/\"\n",
    "    with open(PATH + \"saved_pipeline.bin\", \"rb\") as file_out:\n",
    "         pipeline_dict = pickle.load(file_out)\n",
    "    return pipeline_dict\n",
    "\n",
    "load_pipeline().keys()"
   ]
  },
  {
   "cell_type": "markdown",
   "metadata": {},
   "source": [
    "The saved pipeline has successfully read. Now, I used a one observation from test dataset to test the model."
   ]
  },
  {
   "cell_type": "code",
   "execution_count": 37,
   "metadata": {},
   "outputs": [
    {
     "data": {
      "text/html": [
       "<div>\n",
       "<style scoped>\n",
       "    .dataframe tbody tr th:only-of-type {\n",
       "        vertical-align: middle;\n",
       "    }\n",
       "\n",
       "    .dataframe tbody tr th {\n",
       "        vertical-align: top;\n",
       "    }\n",
       "\n",
       "    .dataframe thead th {\n",
       "        text-align: right;\n",
       "    }\n",
       "</style>\n",
       "<table border=\"1\" class=\"dataframe\">\n",
       "  <thead>\n",
       "    <tr style=\"text-align: right;\">\n",
       "      <th></th>\n",
       "      <th>h1n1_concern</th>\n",
       "      <th>h1n1_knowledge</th>\n",
       "      <th>behavioral_antiviral_meds</th>\n",
       "      <th>behavioral_avoidance</th>\n",
       "      <th>behavioral_face_mask</th>\n",
       "      <th>behavioral_wash_hands</th>\n",
       "      <th>behavioral_large_gatherings</th>\n",
       "      <th>behavioral_outside_home</th>\n",
       "      <th>behavioral_touch_face</th>\n",
       "      <th>doctor_recc_h1n1</th>\n",
       "      <th>...</th>\n",
       "      <th>income_poverty</th>\n",
       "      <th>marital_status</th>\n",
       "      <th>rent_or_own</th>\n",
       "      <th>employment_status</th>\n",
       "      <th>hhs_geo_region</th>\n",
       "      <th>census_msa</th>\n",
       "      <th>household_adults</th>\n",
       "      <th>household_children</th>\n",
       "      <th>employment_industry</th>\n",
       "      <th>employment_occupation</th>\n",
       "    </tr>\n",
       "  </thead>\n",
       "  <tbody>\n",
       "    <tr>\n",
       "      <th>3231</th>\n",
       "      <td>1.0</td>\n",
       "      <td>1.0</td>\n",
       "      <td>0.0</td>\n",
       "      <td>1.0</td>\n",
       "      <td>0.0</td>\n",
       "      <td>1.0</td>\n",
       "      <td>0.0</td>\n",
       "      <td>0.0</td>\n",
       "      <td>1.0</td>\n",
       "      <td>1.0</td>\n",
       "      <td>...</td>\n",
       "      <td>&lt;= $75,000, Above Poverty</td>\n",
       "      <td>Not Married</td>\n",
       "      <td>Own</td>\n",
       "      <td>Employed</td>\n",
       "      <td>mlyzmhmf</td>\n",
       "      <td>MSA, Not Principle  City</td>\n",
       "      <td>2.0</td>\n",
       "      <td>0.0</td>\n",
       "      <td>fcxhlnwr</td>\n",
       "      <td>haliazsg</td>\n",
       "    </tr>\n",
       "  </tbody>\n",
       "</table>\n",
       "<p>1 rows × 35 columns</p>\n",
       "</div>"
      ],
      "text/plain": [
       "      h1n1_concern  h1n1_knowledge  behavioral_antiviral_meds  \\\n",
       "3231           1.0             1.0                        0.0   \n",
       "\n",
       "      behavioral_avoidance  behavioral_face_mask  behavioral_wash_hands  \\\n",
       "3231                   1.0                   0.0                    1.0   \n",
       "\n",
       "      behavioral_large_gatherings  behavioral_outside_home  \\\n",
       "3231                          0.0                      0.0   \n",
       "\n",
       "      behavioral_touch_face  doctor_recc_h1n1  ...             income_poverty  \\\n",
       "3231                    1.0               1.0  ...  <= $75,000, Above Poverty   \n",
       "\n",
       "      marital_status  rent_or_own  employment_status  hhs_geo_region  \\\n",
       "3231     Not Married          Own           Employed        mlyzmhmf   \n",
       "\n",
       "                    census_msa  household_adults  household_children  \\\n",
       "3231  MSA, Not Principle  City               2.0                 0.0   \n",
       "\n",
       "      employment_industry  employment_occupation  \n",
       "3231             fcxhlnwr               haliazsg  \n",
       "\n",
       "[1 rows x 35 columns]"
      ]
     },
     "metadata": {},
     "output_type": "display_data"
    }
   ],
   "source": [
    "PATH = \"/mnt/c/Project/flu-shot-learning/\"\n",
    "test = pd.read_csv(PATH + 'dataset/test_set_features.csv')\n",
    "X_test = test.drop('respondent_id', axis=1)\n",
    "display(X_test.iloc[3231:3232])"
   ]
  },
  {
   "cell_type": "code",
   "execution_count": 39,
   "metadata": {
    "colab": {
     "base_uri": "https://localhost:8080/",
     "height": 162
    },
    "id": "Sc7-57FdwKpA",
    "outputId": "67de474c-f952-4ac9-a1f9-b07f7bb3e1ee"
   },
   "outputs": [
    {
     "data": {
      "text/plain": [
       "'The probability of getting the h1n1 vaccine: 0.291'"
      ]
     },
     "metadata": {},
     "output_type": "display_data"
    },
    {
     "data": {
      "text/plain": [
       "'The probability of getting the seasonal vaccine: 0.074'"
      ]
     },
     "metadata": {},
     "output_type": "display_data"
    }
   ],
   "source": [
    "def predict_probabilities(X: pd.DataFrame, pipeline):\n",
    "    X = pipeline['imputer'].transform(X)\n",
    "    X = X.to_dict(orient='records')\n",
    "    X = pipeline['preprocessor'].transform(X)\n",
    "\n",
    "    y_pred = pipeline['model'].predict_proba(X)\n",
    "    y_pred_h1n1 = y_pred[0][:, 1][0]\n",
    "    y_pred_seasonal = y_pred[1][:, 1][0]\n",
    "    \n",
    "    return y_pred_h1n1, y_pred_seasonal\n",
    "\n",
    "if __name__ == '__main__':\n",
    "    pipeline = load_pipeline()\n",
    "    \n",
    "    X = X_test.iloc[3231:3232]\n",
    "    y_pred_h1n1, y_pred_seasonal = predict_probabilities(X, pipeline)\n",
    "    \n",
    "    display(f\"The probability of getting the h1n1 vaccine: {y_pred_h1n1:.3f}\")\n",
    "    display(f\"The probability of getting the seasonal vaccine: {y_pred_seasonal:.3f}\")"
   ]
  }
 ],
 "metadata": {
  "colab": {
   "collapsed_sections": [
    "PcVmbd5pL01F",
    "OHwmHeLVbYuX",
    "1gPc1A5wbGw1",
    "4PsfnP2KrTGk",
    "ca9yFyHR7wzs",
    "xjye4sAk70Qr",
    "N4VAUhQ19Ss-",
    "czA4mt_89U9v",
    "XXRK0N_V9eZQ",
    "3Z8PhvUt9v0S",
    "9CXnBdd7RuUn",
    "M5Uu-f7qWiHx",
    "gZDF8pFJZM_H",
    "IXHDX_DvZM_K",
    "R34s3EEsqbCu"
   ],
   "name": "Flu_notebook.ipynb",
   "provenance": []
  },
  "interpreter": {
   "hash": "c1085249ce6189f7a04f5810d3fcf5dca2c48f479ac4e2a1eafdbd89e7a56e7d"
  },
  "kernelspec": {
   "display_name": "Python 3.7.11 ('ubuntu-py37': conda)",
   "language": "python",
   "name": "python3"
  },
  "language_info": {
   "codemirror_mode": {
    "name": "ipython",
    "version": 3
   },
   "file_extension": ".py",
   "mimetype": "text/x-python",
   "name": "python",
   "nbconvert_exporter": "python",
   "pygments_lexer": "ipython3",
   "version": "3.7.11"
  }
 },
 "nbformat": 4,
 "nbformat_minor": 4
}
